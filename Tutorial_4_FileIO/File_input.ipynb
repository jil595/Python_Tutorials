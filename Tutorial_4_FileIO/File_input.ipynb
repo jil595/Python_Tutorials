{
 "cells": [
  {
   "cell_type": "markdown",
   "metadata": {},
   "source": [
    "<br>\n",
    "# Mars' Python Tutorial 3"
   ]
  },
  {
   "cell_type": "code",
   "execution_count": 1,
   "metadata": {
    "collapsed": true
   },
   "outputs": [],
   "source": [
    "#Review Exercise: Print out the Keys and Values of the following dictionary\n",
    "# in this format: \"My _key_ is very _value_\" \n",
    "to_print = {\n",
    "    \"appple\": \"red\", \n",
    "    \"banana\": \"yellow\",\n",
    "    \"orange\": \"orange\",\n",
    "    \"lemon\" : \"purple\",\n",
    "    \"blueberry\": \"modest\",\n",
    "}"
   ]
  },
  {
   "cell_type": "code",
   "execution_count": 18,
   "metadata": {
    "collapsed": true
   },
   "outputs": [],
   "source": [
    "#Review Exercise: make a function that returns the sum and difference\n",
    "#of the two input numbers (hint: use zip)"
   ]
  },
  {
   "cell_type": "code",
   "execution_count": 2,
   "metadata": {
    "collapsed": true
   },
   "outputs": [
    {
     "data": {
      "text/plain": [
       "['This is my humble attempt, \\n',\n",
       " 'to write a poem again.\\n',\n",
       " 'I always feel contempt, \\n',\n",
       " 'that no one is popping champagne.\\n']"
      ]
     },
     "execution_count": 2,
     "metadata": {},
     "output_type": "execute_result"
    }
   ],
   "source": [
    "#Review Exercise: open file \"review.txt\" and store each line in a list\n",
    "#remember to remove the newline character \n",
    "poem = []\n"
   ]
  },
  {
   "cell_type": "markdown",
   "metadata": {},
   "source": [
    "# Reading and Writing files"
   ]
  },
  {
   "cell_type": "markdown",
   "metadata": {},
   "source": [
    "Learning the \"with open... as\" syntax'\n",
    "\n",
    "r stands for \"read\""
   ]
  },
  {
   "cell_type": "code",
   "execution_count": 16,
   "metadata": {
    "collapsed": false
   },
   "outputs": [
    {
     "name": "stdout",
     "output_type": "stream",
     "text": [
      "<_io.TextIOWrapper name='practice.txt' mode='r' encoding='US-ASCII'>\n"
     ]
    }
   ],
   "source": [
    "with open(\"practice.txt\",\"r\") as file:\n",
    "    print(file)"
   ]
  },
  {
   "cell_type": "code",
   "execution_count": 17,
   "metadata": {
    "collapsed": false
   },
   "outputs": [
    {
     "name": "stdout",
     "output_type": "stream",
     "text": [
      "hi guys, name is mars \n",
      "welcome to my workshop\n",
      "i enjoy eating mars bars\n",
      "and i steal them from the candy shop\n",
      "\n"
     ]
    }
   ],
   "source": [
    "with open(\"practice.txt\",\"r\") as file:\n",
    "    print(file.read())"
   ]
  },
  {
   "cell_type": "code",
   "execution_count": 20,
   "metadata": {
    "collapsed": false
   },
   "outputs": [
    {
     "name": "stdout",
     "output_type": "stream",
     "text": [
      "['hi guys, name is mars \\n', 'welcome to my workshop\\n', 'i enjoy eating mars bars\\n', 'and i steal them from the candy shop\\n']\n"
     ]
    }
   ],
   "source": [
    "text = []\n",
    "with open(\"practice.txt\",\"r\") as file:\n",
    "    for line in file:\n",
    "        text.append(line)\n",
    "print(text)"
   ]
  },
  {
   "cell_type": "code",
   "execution_count": null,
   "metadata": {
    "collapsed": true
   },
   "outputs": [],
   "source": [
    "##Pop-quiz: remove the \\n symbol from the list\n"
   ]
  },
  {
   "cell_type": "markdown",
   "metadata": {},
   "source": [
    "<br>\n",
    "# CSV files\n",
    "CSV files stand for comma seperated values, which how programs like excel format their files. \n",
    "\n",
    "<img src=\"example.png\">"
   ]
  },
  {
   "cell_type": "code",
   "execution_count": 11,
   "metadata": {
    "collapsed": true
   },
   "outputs": [
    {
     "data": {
      "text/plain": [
       "['2012',\n",
       " 'MITSUBISHI',\n",
       " 'i-MiEV',\n",
       " 'SUBCOMPACT',\n",
       " '49',\n",
       " 'A1',\n",
       " 'B',\n",
       " '16.9',\n",
       " '21.4',\n",
       " '18.7',\n",
       " '1.9',\n",
       " '2.4',\n",
       " '2.1',\n",
       " '0',\n",
       " 'n/a',\n",
       " '100',\n",
       " '7\\n']"
      ]
     },
     "execution_count": 11,
     "metadata": {},
     "output_type": "execute_result"
    }
   ],
   "source": [
    "#Exercise open this file and store the information in a list\n",
    "# remember to use split on commas\n"
   ]
  },
  {
   "cell_type": "markdown",
   "metadata": {},
   "source": [
    "Using the \"csv\" package"
   ]
  },
  {
   "cell_type": "code",
   "execution_count": 4,
   "metadata": {
    "collapsed": true
   },
   "outputs": [],
   "source": [
    "import csv\n",
    "import csv as c   #not recommeded (package name is already short)"
   ]
  },
  {
   "cell_type": "code",
   "execution_count": 7,
   "metadata": {
    "collapsed": true
   },
   "outputs": [
    {
     "data": {
      "text/plain": [
       "['2012',\n",
       " 'MITSUBISHI',\n",
       " 'i-MiEV',\n",
       " 'SUBCOMPACT',\n",
       " '49',\n",
       " 'A1',\n",
       " 'B',\n",
       " '16.9',\n",
       " '21.4',\n",
       " '18.7',\n",
       " '1.9',\n",
       " '2.4',\n",
       " '2.1',\n",
       " '0',\n",
       " 'n/a',\n",
       " '100',\n",
       " '7']"
      ]
     },
     "execution_count": 7,
     "metadata": {},
     "output_type": "execute_result"
    }
   ],
   "source": [
    "with open('cars.csv') as csvfile:\n",
    "    cars = list(csv.reader(csvfile,delimiter =','))\n",
    "#default delimiter is ','\n",
    "with open('cars.csv') as csvfile:\n",
    "    cars = list(csv.reader(csvfile))\n",
    "cars[0]"
   ]
  },
  {
   "cell_type": "code",
   "execution_count": null,
   "metadata": {
    "collapsed": true
   },
   "outputs": [],
   "source": [
    "#print out he make and model of the first 5 cars"
   ]
  },
  {
   "cell_type": "code",
   "execution_count": 8,
   "metadata": {
    "collapsed": true
   },
   "outputs": [
    {
     "data": {
      "text/plain": [
       "[{'(g/km)': '0',\n",
       "  '(kW)': '49',\n",
       "  '(km)': '100',\n",
       "  'CITY (Le/100 km)': '1.9',\n",
       "  'CITY (kWh/100 km)': '16.9',\n",
       "  'COMB (Le/100 km)': '2.1',\n",
       "  'COMB (kWh/100 km)': '18.7',\n",
       "  'HWY (Le/100 km)': '2.4',\n",
       "  'HWY (kWh/100 km)': '21.4',\n",
       "  'Make': 'MITSUBISHI',\n",
       "  'Model': 'i-MiEV',\n",
       "  'RATING': 'n/a',\n",
       "  'Size': 'SUBCOMPACT',\n",
       "  'TIME (h)': '7',\n",
       "  'TYPE': 'B',\n",
       "  'Unnamed: 5': 'A1',\n",
       "  'YEAR': '2012'},\n",
       " {'(g/km)': '0',\n",
       "  '(kW)': '80',\n",
       "  '(km)': '117',\n",
       "  'CITY (Le/100 km)': '2.2',\n",
       "  'CITY (kWh/100 km)': '19.3',\n",
       "  'COMB (Le/100 km)': '2.4',\n",
       "  'COMB (kWh/100 km)': '21.1',\n",
       "  'HWY (Le/100 km)': '2.6',\n",
       "  'HWY (kWh/100 km)': '23.0',\n",
       "  'Make': 'NISSAN',\n",
       "  'Model': 'LEAF',\n",
       "  'RATING': 'n/a',\n",
       "  'Size': 'MID-SIZE',\n",
       "  'TIME (h)': '7',\n",
       "  'TYPE': 'B',\n",
       "  'Unnamed: 5': 'A1',\n",
       "  'YEAR': '2012'},\n",
       " {'(g/km)': '0',\n",
       "  '(kW)': '107',\n",
       "  '(km)': '122',\n",
       "  'CITY (Le/100 km)': '2.1',\n",
       "  'CITY (kWh/100 km)': '19.0',\n",
       "  'COMB (Le/100 km)': '2.2',\n",
       "  'COMB (kWh/100 km)': '20.0',\n",
       "  'HWY (Le/100 km)': '2.4',\n",
       "  'HWY (kWh/100 km)': '21.1',\n",
       "  'Make': 'FORD',\n",
       "  'Model': 'FOCUS ELECTRIC',\n",
       "  'RATING': 'n/a',\n",
       "  'Size': 'COMPACT',\n",
       "  'TIME (h)': '4',\n",
       "  'TYPE': 'B',\n",
       "  'Unnamed: 5': 'A1',\n",
       "  'YEAR': '2013'}]"
      ]
     },
     "execution_count": 8,
     "metadata": {},
     "output_type": "execute_result"
    }
   ],
   "source": [
    "with open('cars.csv') as csvfile:\n",
    "    cars = list(csv.DictReader(csvfile))\n",
    "    \n",
    "cars[:3] # The first three dictionaries in our list."
   ]
  },
  {
   "cell_type": "markdown",
   "metadata": {},
   "source": [
    "<br>\n",
    "`csv.Dictreader` has read in each row of our csv file as a dictionary. `len` shows that our list is comprised of 53 dictionaries."
   ]
  },
  {
   "cell_type": "code",
   "execution_count": 9,
   "metadata": {
    "collapsed": true
   },
   "outputs": [
    {
     "data": {
      "text/plain": [
       "53"
      ]
     },
     "execution_count": 9,
     "metadata": {},
     "output_type": "execute_result"
    }
   ],
   "source": [
    "len(cars)"
   ]
  },
  {
   "cell_type": "markdown",
   "metadata": {},
   "source": [
    "<br>\n",
    "since mpg is a list of dictionaries, `keys` gives us the column names of our csv."
   ]
  },
  {
   "cell_type": "code",
   "execution_count": 10,
   "metadata": {
    "collapsed": true
   },
   "outputs": [
    {
     "data": {
      "text/plain": [
       "dict_keys(['COMB (kWh/100 km)', 'Size', 'CITY (kWh/100 km)', 'COMB (Le/100 km)', 'Model', '(kW)', 'Make', 'TYPE', 'CITY (Le/100 km)', 'RATING', '(g/km)', '(km)', 'TIME (h)', 'HWY (Le/100 km)', 'Unnamed: 5', 'YEAR', 'HWY (kWh/100 km)'])"
      ]
     },
     "execution_count": 10,
     "metadata": {},
     "output_type": "execute_result"
    }
   ],
   "source": [
    "cars[0].keys()"
   ]
  },
  {
   "cell_type": "code",
   "execution_count": 27,
   "metadata": {
    "collapsed": true
   },
   "outputs": [
    {
     "data": {
      "text/plain": [
       "2.21"
      ]
     },
     "execution_count": 27,
     "metadata": {},
     "output_type": "execute_result"
    }
   ],
   "source": [
    "##Exercise: calculate the average electricity consumption while driving in the city"
   ]
  },
  {
   "cell_type": "code",
   "execution_count": 29,
   "metadata": {
    "collapsed": true
   },
   "outputs": [
    {
     "data": {
      "text/plain": [
       "8"
      ]
     },
     "execution_count": 29,
     "metadata": {},
     "output_type": "execute_result"
    }
   ],
   "source": [
    "##Exercise2: count how many different brands of cars there are, and print out all the different brands once"
   ]
  }
 ],
 "metadata": {
  "anaconda-cloud": {},
  "kernelspec": {
   "display_name": "Python [default]",
   "language": "python",
   "name": "python3"
  },
  "language_info": {
   "codemirror_mode": {
    "name": "ipython",
    "version": 3
   },
   "file_extension": ".py",
   "mimetype": "text/x-python",
   "name": "python",
   "nbconvert_exporter": "python",
   "pygments_lexer": "ipython3",
   "version": "3.5.2"
  }
 },
 "nbformat": 4,
 "nbformat_minor": 0
}
