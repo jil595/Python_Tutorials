{
 "cells": [
  {
   "cell_type": "markdown",
   "metadata": {},
   "source": [
    "<br>\n",
    "# Mars' Python Tutorial 4"
   ]
  },
  {
   "cell_type": "code",
   "execution_count": 27,
   "metadata": {
    "collapsed": true
   },
   "outputs": [
    {
     "data": {
      "text/plain": [
       "2.21"
      ]
     },
     "execution_count": 27,
     "metadata": {},
     "output_type": "execute_result"
    }
   ],
   "source": [
    "##Review Exercise: calculate the average electricity consumption while driving in the city"
   ]
  },
  {
   "cell_type": "code",
   "execution_count": 29,
   "metadata": {
    "collapsed": true
   },
   "outputs": [
    {
     "data": {
      "text/plain": [
       "8"
      ]
     },
     "execution_count": 29,
     "metadata": {},
     "output_type": "execute_result"
    }
   ],
   "source": [
    "##Review Exercise2: count how many different brands of cars there are, and print out all the different brands once"
   ]
  },
  {
   "cell_type": "markdown",
   "metadata": {},
   "source": [
    "# The power of python's one liner\n",
    "Quicksort with only one line (by Rohit Malshe) "
   ]
  },
  {
   "cell_type": "code",
   "execution_count": 12,
   "metadata": {
    "collapsed": true
   },
   "outputs": [
    {
     "data": {
      "text/plain": [
       "[1, 2, 2, 5, 6, 7, 8, 8]"
      ]
     },
     "execution_count": 12,
     "metadata": {},
     "output_type": "execute_result"
    }
   ],
   "source": [
    "qsort = lambda l : l if len(l)<=1 else qsort([x for x in l[1:] if x < l[0]]) + [l[0]] + qsort([x for x in l[1:] if x >= l[0]])\n",
    "qsort([1,2,5,7,8,2,6,8])"
   ]
  },
  {
   "cell_type": "markdown",
   "metadata": {},
   "source": [
    "# List Comprehension"
   ]
  },
  {
   "cell_type": "markdown",
   "metadata": {
    "collapsed": true
   },
   "source": [
    "imagine if you can fit your for loops in one line"
   ]
  },
  {
   "cell_type": "code",
   "execution_count": 1,
   "metadata": {
    "collapsed": false
   },
   "outputs": [
    {
     "data": {
      "text/plain": [
       "[2, 4, 6, 8, 10, 12, 14]"
      ]
     },
     "execution_count": 1,
     "metadata": {},
     "output_type": "execute_result"
    }
   ],
   "source": [
    "a = [1,2,3,4,5,6,7]\n",
    "b = []\n",
    "for num in a: \n",
    "    b.append(num*2)\n",
    "b"
   ]
  },
  {
   "cell_type": "markdown",
   "metadata": {},
   "source": [
    "using the \"**for... in**\" syntax"
   ]
  },
  {
   "cell_type": "code",
   "execution_count": 2,
   "metadata": {
    "collapsed": false
   },
   "outputs": [
    {
     "data": {
      "text/plain": [
       "[2, 4, 6, 8, 10, 12, 14]"
      ]
     },
     "execution_count": 2,
     "metadata": {},
     "output_type": "execute_result"
    }
   ],
   "source": [
    "a = [1,2,3,4,5,6,7]\n",
    "b = [num*2 for num in a]\n",
    "b"
   ]
  },
  {
   "cell_type": "code",
   "execution_count": 2,
   "metadata": {
    "collapsed": true
   },
   "outputs": [
    {
     "data": {
      "text/plain": [
       "[0, 1, 2, 3, 4, 5, 6, 7, 8, 9]"
      ]
     },
     "execution_count": 2,
     "metadata": {},
     "output_type": "execute_result"
    }
   ],
   "source": [
    "#Exercise: using list comprehension and \"range\" syntax to store number 0 to 9 to list \"numbers\" "
   ]
  },
  {
   "cell_type": "markdown",
   "metadata": {},
   "source": [
    "We can also include if statements in list comprhension\n",
    "\n",
    "\"** if ... else ... for ... in ... **\"\n",
    "\n",
    "or\n",
    "\n",
    "\"** for ... in ... if ...**\""
   ]
  },
  {
   "cell_type": "code",
   "execution_count": 3,
   "metadata": {
    "collapsed": false
   },
   "outputs": [
    {
     "data": {
      "text/plain": [
       "[0, 2, 4, 6, 8, 10]"
      ]
     },
     "execution_count": 3,
     "metadata": {},
     "output_type": "execute_result"
    }
   ],
   "source": [
    "a = [0,1,2,3,4,5,6,7,8,9,10]\n",
    "b = [num for num in a if num%2 == 0]\n",
    "b"
   ]
  },
  {
   "cell_type": "code",
   "execution_count": 6,
   "metadata": {
    "collapsed": true
   },
   "outputs": [
    {
     "data": {
      "text/plain": [
       "[0, 10, -2, 30, -4, 50, -6, 70, -8, 90, -10]"
      ]
     },
     "execution_count": 6,
     "metadata": {},
     "output_type": "execute_result"
    }
   ],
   "source": [
    "c = [-num if num%2 ==0 else num*10 for num in a]\n",
    "c"
   ]
  },
  {
   "cell_type": "code",
   "execution_count": 18,
   "metadata": {
    "collapsed": true
   },
   "outputs": [
    {
     "data": {
      "text/plain": [
       "['THE',\n",
       " 'MAIN',\n",
       " 'co',\n",
       " 'FOR',\n",
       " 'THE',\n",
       " 'ac',\n",
       " 'OF',\n",
       " 'LOVE',\n",
       " 'IS',\n",
       " 'THE',\n",
       " 'ov',\n",
       " 'OF',\n",
       " 'on',\n",
       " 'na',\n",
       " 'THE',\n",
       " 'na',\n",
       " 'or',\n",
       " 'IS',\n",
       " 'ONE',\n",
       " 'IN',\n",
       " 'wh',\n",
       " 'ONE',\n",
       " 'ex',\n",
       " 'AS',\n",
       " 'REAL',\n",
       " 'ONLY',\n",
       " 'THAT',\n",
       " 'wh',\n",
       " 'ex',\n",
       " 'wi',\n",
       " 'on',\n",
       " 'wh',\n",
       " 'THE',\n",
       " 'ph',\n",
       " 'IN',\n",
       " 'THE',\n",
       " 'ou',\n",
       " 'wo',\n",
       " 'HAVE',\n",
       " 'NO',\n",
       " 're',\n",
       " 'IN',\n",
       " 'th',\n",
       " 'BUT',\n",
       " 'ARE',\n",
       " 'ex',\n",
       " 'ONLY',\n",
       " 'FROM',\n",
       " 'THE',\n",
       " 'vi',\n",
       " 'OF',\n",
       " 'th',\n",
       " 'be',\n",
       " 'us',\n",
       " 'OR',\n",
       " 'da',\n",
       " 'TO',\n",
       " 'ONE.',\n",
       " 'THE',\n",
       " 'op',\n",
       " 'POLE',\n",
       " 'TO',\n",
       " 'na',\n",
       " 'IS',\n",
       " 'ob',\n",
       " 'IT',\n",
       " 'IS',\n",
       " 'THE',\n",
       " 'fa',\n",
       " 'TO',\n",
       " 'SEE',\n",
       " 'ot',\n",
       " 'pe',\n",
       " 'AND',\n",
       " 'th',\n",
       " 'AS',\n",
       " 'THEY',\n",
       " 'ARE,',\n",
       " 'ob',\n",
       " 'AND',\n",
       " 'TO',\n",
       " 'BE',\n",
       " 'ABLE',\n",
       " 'TO',\n",
       " 'se',\n",
       " 'THIS',\n",
       " 'ob',\n",
       " 'pi',\n",
       " 'FROM',\n",
       " 'A',\n",
       " 'pi',\n",
       " 'wh',\n",
       " 'IS',\n",
       " 'fo',\n",
       " 'BY',\n",
       " 'on',\n",
       " 'de',\n",
       " 'AND',\n",
       " 'fe']"
      ]
     },
     "execution_count": 18,
     "metadata": {},
     "output_type": "execute_result"
    }
   ],
   "source": [
    "#Exercise: read in file \"practice2.txt\". parse each word as an element in the list. \n",
    "#return only the first 2 characters for words longer than 5 characters\n",
    "#captialize words than are shorter than 5 characters\n",
    "#Use list comprehension!\n",
    "#eg: ['THE','MAIN','co','FOR','THE','ac','OF','LOVE','IS','THE','ov','OF'.........\n"
   ]
  },
  {
   "cell_type": "markdown",
   "metadata": {
    "collapsed": true
   },
   "source": [
    "# Applying List Comprehension\n",
    "back on our cars.csv example"
   ]
  },
  {
   "cell_type": "code",
   "execution_count": null,
   "metadata": {
    "collapsed": true
   },
   "outputs": [],
   "source": [
    "###Exercise: calculate the average electricity consumption while driving in the city\n",
    "#Using list comprehension"
   ]
  },
  {
   "cell_type": "code",
   "execution_count": null,
   "metadata": {
    "collapsed": true
   },
   "outputs": [],
   "source": [
    "##Exercise2: count how many different brands of cars there are, and print out all the different brands once\n",
    "#Using list comprehension"
   ]
  },
  {
   "cell_type": "markdown",
   "metadata": {},
   "source": [
    "# Lambda Functions: writing functions in 1 line"
   ]
  },
  {
   "cell_type": "markdown",
   "metadata": {},
   "source": [
    "lambda  __variable__  :  __returnValue__"
   ]
  },
  {
   "cell_type": "code",
   "execution_count": 11,
   "metadata": {
    "collapsed": true
   },
   "outputs": [
    {
     "data": {
      "text/plain": [
       "4"
      ]
     },
     "execution_count": 11,
     "metadata": {},
     "output_type": "execute_result"
    }
   ],
   "source": [
    "a = lambda x: x*2\n",
    "a(2)"
   ]
  },
  {
   "cell_type": "code",
   "execution_count": 12,
   "metadata": {
    "collapsed": true
   },
   "outputs": [
    {
     "data": {
      "text/plain": [
       "5"
      ]
     },
     "execution_count": 12,
     "metadata": {},
     "output_type": "execute_result"
    }
   ],
   "source": [
    "b = lambda x,y: x+y\n",
    "b(2,3)"
   ]
  },
  {
   "cell_type": "code",
   "execution_count": 1,
   "metadata": {
    "collapsed": true
   },
   "outputs": [],
   "source": [
    "#Exercise: make a lambda function named \"c\" that returns the product of two numbers\n"
   ]
  },
  {
   "cell_type": "markdown",
   "metadata": {},
   "source": [
    "Lambda functions can also take in conditional statements\n",
    "\n",
    "*lambda* **variable**: **returnValue1** if *conidtion* else **returnVlaue2**"
   ]
  },
  {
   "cell_type": "code",
   "execution_count": 5,
   "metadata": {
    "collapsed": true
   },
   "outputs": [
    {
     "name": "stdout",
     "output_type": "stream",
     "text": [
      "1\n",
      "-1\n"
     ]
    }
   ],
   "source": [
    "b = lambda x: -1 if x >= 0 else 1\n",
    "print(b(-20))\n",
    "print(b(99))"
   ]
  },
  {
   "cell_type": "markdown",
   "metadata": {},
   "source": [
    "# Using lambda functions as variables\n",
    "There are some standard python functions that takes in lambda functions as a variable. In this tutorial, we are going to talk about 4 of them: \n",
    "\n",
    "**Filter:**\n",
    "\n",
    "Filter calls the lambda function on it's second input (usually a list), and return only those that are *true* under the lambda condition"
   ]
  },
  {
   "cell_type": "code",
   "execution_count": 7,
   "metadata": {
    "collapsed": true
   },
   "outputs": [
    {
     "name": "stdout",
     "output_type": "stream",
     "text": [
      "<filter object at 0x106d1fc50>\n"
     ]
    }
   ],
   "source": [
    "nums = [-5,2,200,-1,-19,-20]\n",
    "r = filter(lambda x: x >= 0, nums)\n",
    "print(r)"
   ]
  },
  {
   "cell_type": "markdown",
   "metadata": {},
   "source": [
    "As you can see, the return value of **filter** is a **filter object**, we have to manually convert the results to a list"
   ]
  },
  {
   "cell_type": "code",
   "execution_count": null,
   "metadata": {
    "collapsed": true
   },
   "outputs": [],
   "source": [
    "print(list(r))\n",
    "#or\n",
    "print(list(filter(lambda x: x >= 0, nums)))"
   ]
  },
  {
   "cell_type": "markdown",
   "metadata": {},
   "source": [
    "**Map:**\n",
    "\n",
    "The map function simply applies the lambda function to a list"
   ]
  },
  {
   "cell_type": "code",
   "execution_count": 8,
   "metadata": {
    "collapsed": true
   },
   "outputs": [
    {
     "name": "stdout",
     "output_type": "stream",
     "text": [
      "[1, 4, 9, 16, 25]\n"
     ]
    }
   ],
   "source": [
    "nums = [1,2,3,4,5]\n",
    "print(list(map(lambda x: x**2, nums)))"
   ]
  },
  {
   "cell_type": "markdown",
   "metadata": {},
   "source": [
    "**Reduce:**\n",
    "\n",
    "The reduce function takes in two variables, thus it's lambda function has to have two parameters as well. The function take in the first two elements from the list and return a value. Then, the value is reused again as the first parameter, with the next element of the list being the second. This process is repeated until the end of the input list.\n",
    "\n",
    "*reduce has to be imported from functools*\n",
    "\n",
    "*returns a value, not stored in reduce variable*"
   ]
  },
  {
   "cell_type": "code",
   "execution_count": 11,
   "metadata": {
    "collapsed": true
   },
   "outputs": [
    {
     "name": "stdout",
     "output_type": "stream",
     "text": [
      "20\n"
     ]
    }
   ],
   "source": [
    "from functools import reduce\n",
    "nums = [0,1,1,2,3,5,8]\n",
    "print(reduce(lambda a,b: a+b,nums))"
   ]
  },
  {
   "cell_type": "code",
   "execution_count": null,
   "metadata": {
    "collapsed": true
   },
   "outputs": [],
   "source": []
  }
 ],
 "metadata": {
  "anaconda-cloud": {},
  "kernelspec": {
   "display_name": "Python [default]",
   "language": "python",
   "name": "python3"
  },
  "language_info": {
   "codemirror_mode": {
    "name": "ipython",
    "version": 3
   },
   "file_extension": ".py",
   "mimetype": "text/x-python",
   "name": "python",
   "nbconvert_exporter": "python",
   "pygments_lexer": "ipython3",
   "version": "3.5.2"
  }
 },
 "nbformat": 4,
 "nbformat_minor": 0
}
