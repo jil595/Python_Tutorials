{
 "cells": [
  {
   "cell_type": "markdown",
   "metadata": {},
   "source": [
    "<br>\n",
    "# Mars' Python Tutorial 2"
   ]
  },
  {
   "cell_type": "code",
   "execution_count": 17,
   "metadata": {
    "collapsed": true
   },
   "outputs": [],
   "source": [
    "#Review Exercise: Create a dictionary called classes, with the classes you're taking as key, and the grade that your want to recieve as index\n"
   ]
  },
  {
   "cell_type": "code",
   "execution_count": 18,
   "metadata": {
    "collapsed": true
   },
   "outputs": [],
   "source": [
    "#Review Exercise: Exercise: print out all key, values from your diciotnary in the following format:\n",
    "#\"The grade that I want to revieve for ____ class is ____\""
   ]
  },
  {
   "cell_type": "code",
   "execution_count": null,
   "metadata": {
    "collapsed": true
   },
   "outputs": [],
   "source": [
    "#Review Exercise: Store your full name in variable \"name\" and print out the reverse of the even characters\n",
    "# eg Mars_Huang = gaHsa"
   ]
  },
  {
   "cell_type": "markdown",
   "metadata": {},
   "source": [
    "<br>\n",
    "# Unpacking\n",
    "You can unpack a sequence into different variables:"
   ]
  },
  {
   "cell_type": "code",
   "execution_count": 23,
   "metadata": {
    "collapsed": true
   },
   "outputs": [],
   "source": [
    "x = ('Mars', 'Huang', 'marshuang80@gmail.com')\n",
    "fname, lname, email = x"
   ]
  },
  {
   "cell_type": "code",
   "execution_count": 24,
   "metadata": {
    "collapsed": true
   },
   "outputs": [
    {
     "data": {
      "text/plain": [
       "'Christopher'"
      ]
     },
     "execution_count": 24,
     "metadata": {},
     "output_type": "execute_result"
    }
   ],
   "source": [
    "fname"
   ]
  },
  {
   "cell_type": "code",
   "execution_count": 25,
   "metadata": {
    "collapsed": true
   },
   "outputs": [
    {
     "data": {
      "text/plain": [
       "'Brooks'"
      ]
     },
     "execution_count": 25,
     "metadata": {},
     "output_type": "execute_result"
    }
   ],
   "source": [
    "lname"
   ]
  },
  {
   "cell_type": "markdown",
   "metadata": {},
   "source": [
    "<br>\n",
    "Make sure the number of values you are unpacking matches the number of variables being assigned."
   ]
  },
  {
   "cell_type": "code",
   "execution_count": null,
   "metadata": {
    "collapsed": false
   },
   "outputs": [],
   "source": [
    "x = ('Mars', 'Huang', 'marshuang80@gmail.com', 'San Diego')\n",
    "fname, lname, email = x"
   ]
  },
  {
   "cell_type": "markdown",
   "metadata": {},
   "source": [
    "You can also unpack from a list"
   ]
  },
  {
   "cell_type": "code",
   "execution_count": 1,
   "metadata": {
    "collapsed": true
   },
   "outputs": [],
   "source": [
    "x = ['Mars','Huang','marshuang80@gmail.com']\n",
    "fname, lname, email = x"
   ]
  },
  {
   "cell_type": "markdown",
   "metadata": {},
   "source": [
    "This is especially useful in functions"
   ]
  },
  {
   "cell_type": "code",
   "execution_count": 1,
   "metadata": {
    "collapsed": true
   },
   "outputs": [],
   "source": [
    "def add_mul(a,b):\n",
    "    return [a+b,a*b]\n",
    "\n",
    "add,mul = add_mul(2,3)"
   ]
  },
  {
   "cell_type": "markdown",
   "metadata": {},
   "source": [
    "<br>\n",
    "# More on Strings and Printing"
   ]
  },
  {
   "cell_type": "code",
   "execution_count": null,
   "metadata": {
    "collapsed": false
   },
   "outputs": [],
   "source": [
    "print('Mars' + 2)"
   ]
  },
  {
   "cell_type": "code",
   "execution_count": null,
   "metadata": {
    "collapsed": false
   },
   "outputs": [],
   "source": [
    "print('Mars' + str(2))"
   ]
  },
  {
   "cell_type": "markdown",
   "metadata": {},
   "source": [
    "<br>\n",
    "Python has a built in method for convenient string formatting."
   ]
  },
  {
   "cell_type": "code",
   "execution_count": 19,
   "metadata": {
    "collapsed": true
   },
   "outputs": [
    {
     "name": "stdout",
     "output_type": "stream",
     "text": [
      "Chris bought 4 item(s) at a price of 3.24 each for a total of 12.96\n"
     ]
    }
   ],
   "source": [
    "sales_record = {\n",
    "'price': 3.24,\n",
    "'num_items': 4,\n",
    "'person': 'Chris'}\n",
    "\n",
    "sales_statement = '{} bought {} item(s) at a price of {} each for a total of {}'\n",
    "\n",
    "print(sales_statement.format(sales_record['person'],\n",
    "                             sales_record['num_items'],\n",
    "                             sales_record['price'],\n",
    "                             sales_record['num_items']*sales_record['price']))\n"
   ]
  },
  {
   "cell_type": "markdown",
   "metadata": {},
   "source": [
    "Notice how you don't need to convert int or float to string using format"
   ]
  },
  {
   "cell_type": "code",
   "execution_count": 20,
   "metadata": {
    "collapsed": true
   },
   "outputs": [
    {
     "name": "stdout",
     "output_type": "stream",
     "text": [
      "Chris bought 4 item(s) at a price of 3.240000 each for a total of 12.960000\n"
     ]
    }
   ],
   "source": [
    "#Another method\n",
    "print('%s bought %i item(s) at a price of %f each for a total of %f'%(sales_record['person'],\n",
    "                             sales_record['num_items'],\n",
    "                             sales_record['price'],\n",
    "                             sales_record['num_items']*sales_record['price']))\n"
   ]
  },
  {
   "cell_type": "code",
   "execution_count": null,
   "metadata": {
    "collapsed": true
   },
   "outputs": [],
   "source": [
    "#Exercise: print out \"I took 'a' shots and drank 'b' bottles of beer yesterday night\"\n",
    "a = 7\n",
    "b = 2"
   ]
  },
  {
   "cell_type": "markdown",
   "metadata": {},
   "source": [
    "# The Python Programming Language: Functions"
   ]
  },
  {
   "cell_type": "code",
   "execution_count": 1,
   "metadata": {
    "collapsed": true
   },
   "outputs": [
    {
     "data": {
      "text/plain": [
       "3"
      ]
     },
     "execution_count": 1,
     "metadata": {},
     "output_type": "execute_result"
    }
   ],
   "source": [
    "x = 1\n",
    "y = 2\n",
    "x + y"
   ]
  },
  {
   "cell_type": "code",
   "execution_count": 2,
   "metadata": {
    "collapsed": true
   },
   "outputs": [
    {
     "data": {
      "text/plain": [
       "1"
      ]
     },
     "execution_count": 2,
     "metadata": {},
     "output_type": "execute_result"
    }
   ],
   "source": [
    "x"
   ]
  },
  {
   "cell_type": "markdown",
   "metadata": {},
   "source": [
    "<br>\n",
    "`add_numbers` is a function that takes two numbers and adds them together."
   ]
  },
  {
   "cell_type": "code",
   "execution_count": 3,
   "metadata": {
    "collapsed": true
   },
   "outputs": [
    {
     "data": {
      "text/plain": [
       "3"
      ]
     },
     "execution_count": 3,
     "metadata": {},
     "output_type": "execute_result"
    }
   ],
   "source": [
    "def add_numbers(x, y):\n",
    "    return x + y\n",
    "\n",
    "add_numbers(1, 2)"
   ]
  },
  {
   "cell_type": "markdown",
   "metadata": {},
   "source": [
    "<br>\n",
    "`add_numbers` updated to take an optional 3rd parameter. Using `print` allows printing of multiple expressions within a single cell."
   ]
  },
  {
   "cell_type": "code",
   "execution_count": null,
   "metadata": {
    "collapsed": false
   },
   "outputs": [],
   "source": [
    "def add_numbers(x,y,z=None):\n",
    "    if (z==None):\n",
    "        return x+y\n",
    "    else:\n",
    "        return x+y+z\n",
    "\n",
    "print(add_numbers(1, 2))\n",
    "print(add_numbers(1, 2, 3))"
   ]
  },
  {
   "cell_type": "markdown",
   "metadata": {},
   "source": [
    "<br>\n",
    "`add_numbers` updated to take an optional flag parameter."
   ]
  },
  {
   "cell_type": "code",
   "execution_count": null,
   "metadata": {
    "collapsed": false
   },
   "outputs": [],
   "source": [
    "def add_numbers(x, y, z=None, flag=False):\n",
    "    if (flag):\n",
    "        print('Flag is true!')\n",
    "    if (z==None):\n",
    "        return x + y\n",
    "    else:\n",
    "        return x + y + z\n",
    "    \n",
    "print(add_numbers(1, 2, flag=True))"
   ]
  },
  {
   "cell_type": "markdown",
   "metadata": {},
   "source": [
    "<br>\n",
    "Assign function `add_numbers` to variable `a`."
   ]
  },
  {
   "cell_type": "code",
   "execution_count": 4,
   "metadata": {
    "collapsed": true
   },
   "outputs": [
    {
     "data": {
      "text/plain": [
       "3"
      ]
     },
     "execution_count": 4,
     "metadata": {},
     "output_type": "execute_result"
    }
   ],
   "source": [
    "def add_numbers(x,y):\n",
    "    return x+y\n",
    "\n",
    "a = add_numbers\n",
    "a(1,2)"
   ]
  },
  {
   "cell_type": "code",
   "execution_count": 22,
   "metadata": {
    "collapsed": true
   },
   "outputs": [],
   "source": [
    "##Quiz\n",
    "#make a function that has two parameters: a list of numbers \"num\" a second number \"val\"\n",
    "#return the sum of all odd numbers in num, minus the sum of all even numbers, \n",
    "#and multiply by val if a second parameter is given\n",
    "num = [14,7,2,4,5,6,9,13,17,4,16,9,0,3]\n",
    "\n",
    "#write function below\n",
    "\n",
    "#two test cases:\n",
    "print(get_result(num))\n",
    "print(get_result(num,7)"
   ]
  },
  {
   "cell_type": "markdown",
   "metadata": {},
   "source": [
    "# Reading and Writing files"
   ]
  },
  {
   "cell_type": "markdown",
   "metadata": {},
   "source": [
    "Learning the \"with open... as\" syntax'\n",
    "\n",
    "r stands for \"read\""
   ]
  },
  {
   "cell_type": "code",
   "execution_count": 2,
   "metadata": {
    "collapsed": true
   },
   "outputs": [
    {
     "name": "stdout",
     "output_type": "stream",
     "text": [
      "<_io.TextIOWrapper name='practice.txt' mode='r' encoding='US-ASCII'>\n"
     ]
    }
   ],
   "source": [
    "with open (\"practice.txt\",\"r\") as file:\n",
    "    print(file)"
   ]
  },
  {
   "cell_type": "code",
   "execution_count": 3,
   "metadata": {
    "collapsed": true
   },
   "outputs": [
    {
     "name": "stdout",
     "output_type": "stream",
     "text": [
      "hi my name is mars \n",
      "welcome to my workshop\n",
      "\n"
     ]
    }
   ],
   "source": [
    "with open(\"practice.txt\",\"r\") as file:\n",
    "    print(file.read())"
   ]
  },
  {
   "cell_type": "code",
   "execution_count": 5,
   "metadata": {
    "collapsed": true
   },
   "outputs": [
    {
     "name": "stdout",
     "output_type": "stream",
     "text": [
      "['hi guys, name is mars \\n', 'welcome to my workshop\\n', 'i enjoy eating mars bars\\n', 'and i steal them from the candy shop\\n']\n"
     ]
    }
   ],
   "source": [
    "text = []\n",
    "with open(\"practice.txt\",\"r\") as file:\n",
    "    for line in file:\n",
    "        text.append(line)\n",
    "print(text)"
   ]
  },
  {
   "cell_type": "code",
   "execution_count": null,
   "metadata": {
    "collapsed": true
   },
   "outputs": [],
   "source": [
    "##Pop-quiz: remove the \\n symbol from the list\n"
   ]
  },
  {
   "cell_type": "markdown",
   "metadata": {},
   "source": [
    "<br>\n",
    "# CSV files\n",
    "CSV files stand for comma seperated values, which how programs like excel format their files. \n",
    "\n",
    "<img src=\"example.png\">"
   ]
  },
  {
   "cell_type": "code",
   "execution_count": 11,
   "metadata": {
    "collapsed": true
   },
   "outputs": [
    {
     "data": {
      "text/plain": [
       "['2012',\n",
       " 'MITSUBISHI',\n",
       " 'i-MiEV',\n",
       " 'SUBCOMPACT',\n",
       " '49',\n",
       " 'A1',\n",
       " 'B',\n",
       " '16.9',\n",
       " '21.4',\n",
       " '18.7',\n",
       " '1.9',\n",
       " '2.4',\n",
       " '2.1',\n",
       " '0',\n",
       " 'n/a',\n",
       " '100',\n",
       " '7\\n']"
      ]
     },
     "execution_count": 11,
     "metadata": {},
     "output_type": "execute_result"
    }
   ],
   "source": [
    "#Exercise open this file and store the information in a list"
   ]
  },
  {
   "cell_type": "code",
   "execution_count": 22,
   "metadata": {
    "collapsed": true
   },
   "outputs": [
    {
     "data": {
      "text/plain": [
       "[{'(g/km)': '0',\n",
       "  '(kW)': '49',\n",
       "  '(km)': '100',\n",
       "  'CITY (Le/100 km)': '1.9',\n",
       "  'CITY (kWh/100 km)': '16.9',\n",
       "  'COMB (Le/100 km)': '2.1',\n",
       "  'COMB (kWh/100 km)': '18.7',\n",
       "  'HWY (Le/100 km)': '2.4',\n",
       "  'HWY (kWh/100 km)': '21.4',\n",
       "  'Make': 'MITSUBISHI',\n",
       "  'Model': 'i-MiEV',\n",
       "  'RATING': 'n/a',\n",
       "  'Size': 'SUBCOMPACT',\n",
       "  'TIME (h)': '7',\n",
       "  'TYPE': 'B',\n",
       "  'Unnamed: 5': 'A1',\n",
       "  'YEAR': '2012'},\n",
       " {'(g/km)': '0',\n",
       "  '(kW)': '80',\n",
       "  '(km)': '117',\n",
       "  'CITY (Le/100 km)': '2.2',\n",
       "  'CITY (kWh/100 km)': '19.3',\n",
       "  'COMB (Le/100 km)': '2.4',\n",
       "  'COMB (kWh/100 km)': '21.1',\n",
       "  'HWY (Le/100 km)': '2.6',\n",
       "  'HWY (kWh/100 km)': '23.0',\n",
       "  'Make': 'NISSAN',\n",
       "  'Model': 'LEAF',\n",
       "  'RATING': 'n/a',\n",
       "  'Size': 'MID-SIZE',\n",
       "  'TIME (h)': '7',\n",
       "  'TYPE': 'B',\n",
       "  'Unnamed: 5': 'A1',\n",
       "  'YEAR': '2012'},\n",
       " {'(g/km)': '0',\n",
       "  '(kW)': '107',\n",
       "  '(km)': '122',\n",
       "  'CITY (Le/100 km)': '2.1',\n",
       "  'CITY (kWh/100 km)': '19.0',\n",
       "  'COMB (Le/100 km)': '2.2',\n",
       "  'COMB (kWh/100 km)': '20.0',\n",
       "  'HWY (Le/100 km)': '2.4',\n",
       "  'HWY (kWh/100 km)': '21.1',\n",
       "  'Make': 'FORD',\n",
       "  'Model': 'FOCUS ELECTRIC',\n",
       "  'RATING': 'n/a',\n",
       "  'Size': 'COMPACT',\n",
       "  'TIME (h)': '4',\n",
       "  'TYPE': 'B',\n",
       "  'Unnamed: 5': 'A1',\n",
       "  'YEAR': '2013'}]"
      ]
     },
     "execution_count": 22,
     "metadata": {},
     "output_type": "execute_result"
    }
   ],
   "source": [
    "import csv\n",
    "\n",
    "%precision 2\n",
    "\n",
    "with open('cars.csv') as csvfile:\n",
    "    cars = list(csv.DictReader(csvfile))\n",
    "    \n",
    "cars[:3] # The first three dictionaries in our list."
   ]
  },
  {
   "cell_type": "markdown",
   "metadata": {},
   "source": [
    "<br>\n",
    "`csv.Dictreader` has read in each row of our csv file as a dictionary. `len` shows that our list is comprised of 234 dictionaries."
   ]
  },
  {
   "cell_type": "code",
   "execution_count": 23,
   "metadata": {
    "collapsed": true
   },
   "outputs": [
    {
     "data": {
      "text/plain": [
       "53"
      ]
     },
     "execution_count": 23,
     "metadata": {},
     "output_type": "execute_result"
    }
   ],
   "source": [
    "len(cars)"
   ]
  },
  {
   "cell_type": "markdown",
   "metadata": {},
   "source": [
    "<br>\n",
    "since mpg is a list of dictionaries, `keys` gives us the column names of our csv."
   ]
  },
  {
   "cell_type": "code",
   "execution_count": 15,
   "metadata": {
    "collapsed": true
   },
   "outputs": [
    {
     "data": {
      "text/plain": [
       "dict_keys(['RATING', 'HWY (kWh/100 km)', 'CITY (Le/100 km)', 'COMB (Le/100 km)', 'TYPE', 'Size', '(km)', 'Model', 'HWY (Le/100 km)', 'Unnamed: 5', 'Make', '(kW)', 'TIME (h)', 'YEAR', 'CITY (kWh/100 km)', 'COMB (kWh/100 km)', '(g/km)'])"
      ]
     },
     "execution_count": 15,
     "metadata": {},
     "output_type": "execute_result"
    }
   ],
   "source": [
    "cars[0].keys()"
   ]
  },
  {
   "cell_type": "code",
   "execution_count": 27,
   "metadata": {
    "collapsed": true
   },
   "outputs": [
    {
     "data": {
      "text/plain": [
       "2.21"
      ]
     },
     "execution_count": 27,
     "metadata": {},
     "output_type": "execute_result"
    }
   ],
   "source": [
    "##Exercise: calculate the average electricity consumption while driving in the city"
   ]
  },
  {
   "cell_type": "code",
   "execution_count": 29,
   "metadata": {
    "collapsed": true
   },
   "outputs": [
    {
     "data": {
      "text/plain": [
       "8"
      ]
     },
     "execution_count": 29,
     "metadata": {},
     "output_type": "execute_result"
    }
   ],
   "source": [
    "##Exercise2: count how many different brands of cars there are, and print out all the different brands once"
   ]
  },
  {
   "cell_type": "markdown",
   "metadata": {},
   "source": [
    "# List Comprehension"
   ]
  },
  {
   "cell_type": "markdown",
   "metadata": {
    "collapsed": true
   },
   "source": [
    "imagine if you can fit your for loops in one line"
   ]
  },
  {
   "cell_type": "code",
   "execution_count": 1,
   "metadata": {
    "collapsed": false
   },
   "outputs": [
    {
     "data": {
      "text/plain": [
       "[2, 4, 6, 8, 10, 12, 14]"
      ]
     },
     "execution_count": 1,
     "metadata": {},
     "output_type": "execute_result"
    }
   ],
   "source": [
    "a = [1,2,3,4,5,6,7]\n",
    "b = []\n",
    "for num in a: \n",
    "    b.append(num*2)\n",
    "b"
   ]
  },
  {
   "cell_type": "markdown",
   "metadata": {},
   "source": [
    "using the \"for... in\" syntax, it's almost writing a for loop in reverse"
   ]
  },
  {
   "cell_type": "code",
   "execution_count": null,
   "metadata": {
    "collapsed": true
   },
   "outputs": [],
   "source": [
    "a = [1,2,3,4,5,6,7]\n",
    "b = [num*2 for num in a]\n",
    "b"
   ]
  },
  {
   "cell_type": "code",
   "execution_count": 2,
   "metadata": {
    "collapsed": true
   },
   "outputs": [
    {
     "data": {
      "text/plain": [
       "[0, 1, 2, 3, 4, 5, 6, 7, 8, 9]"
      ]
     },
     "execution_count": 2,
     "metadata": {},
     "output_type": "execute_result"
    }
   ],
   "source": [
    "#Exercise: using list comprehension and \"range\" syntax to store number 0 to 9 to list \"numbers\" "
   ]
  },
  {
   "cell_type": "markdown",
   "metadata": {},
   "source": [
    "Is this really worth it tho? We can actually include if statements in list comprhension\n",
    "\n",
    "\"__ if ____ else ___ for ___ in ___\" or \"___ for ____ in ____ if ___\""
   ]
  },
  {
   "cell_type": "code",
   "execution_count": 5,
   "metadata": {
    "collapsed": true
   },
   "outputs": [
    {
     "data": {
      "text/plain": [
       "[0, 2, 4, 6, 8, 10]"
      ]
     },
     "execution_count": 5,
     "metadata": {},
     "output_type": "execute_result"
    }
   ],
   "source": [
    "a = [0,1,2,3,4,5,6,7,8,9,10]\n",
    "b = [num for num in a if num%2 == 0]\n",
    "b"
   ]
  },
  {
   "cell_type": "code",
   "execution_count": 6,
   "metadata": {
    "collapsed": true
   },
   "outputs": [
    {
     "data": {
      "text/plain": [
       "[0, 10, -2, 30, -4, 50, -6, 70, -8, 90, -10]"
      ]
     },
     "execution_count": 6,
     "metadata": {},
     "output_type": "execute_result"
    }
   ],
   "source": [
    "c = [-num if num%2 ==0 else num*10 for num in a]\n",
    "c"
   ]
  },
  {
   "cell_type": "code",
   "execution_count": 18,
   "metadata": {
    "collapsed": true
   },
   "outputs": [
    {
     "data": {
      "text/plain": [
       "['THE',\n",
       " 'MAIN',\n",
       " 'co',\n",
       " 'FOR',\n",
       " 'THE',\n",
       " 'ac',\n",
       " 'OF',\n",
       " 'LOVE',\n",
       " 'IS',\n",
       " 'THE',\n",
       " 'ov',\n",
       " 'OF',\n",
       " 'on',\n",
       " 'na',\n",
       " 'THE',\n",
       " 'na',\n",
       " 'or',\n",
       " 'IS',\n",
       " 'ONE',\n",
       " 'IN',\n",
       " 'wh',\n",
       " 'ONE',\n",
       " 'ex',\n",
       " 'AS',\n",
       " 'REAL',\n",
       " 'ONLY',\n",
       " 'THAT',\n",
       " 'wh',\n",
       " 'ex',\n",
       " 'wi',\n",
       " 'on',\n",
       " 'wh',\n",
       " 'THE',\n",
       " 'ph',\n",
       " 'IN',\n",
       " 'THE',\n",
       " 'ou',\n",
       " 'wo',\n",
       " 'HAVE',\n",
       " 'NO',\n",
       " 're',\n",
       " 'IN',\n",
       " 'th',\n",
       " 'BUT',\n",
       " 'ARE',\n",
       " 'ex',\n",
       " 'ONLY',\n",
       " 'FROM',\n",
       " 'THE',\n",
       " 'vi',\n",
       " 'OF',\n",
       " 'th',\n",
       " 'be',\n",
       " 'us',\n",
       " 'OR',\n",
       " 'da',\n",
       " 'TO',\n",
       " 'ONE.',\n",
       " 'THE',\n",
       " 'op',\n",
       " 'POLE',\n",
       " 'TO',\n",
       " 'na',\n",
       " 'IS',\n",
       " 'ob',\n",
       " 'IT',\n",
       " 'IS',\n",
       " 'THE',\n",
       " 'fa',\n",
       " 'TO',\n",
       " 'SEE',\n",
       " 'ot',\n",
       " 'pe',\n",
       " 'AND',\n",
       " 'th',\n",
       " 'AS',\n",
       " 'THEY',\n",
       " 'ARE,',\n",
       " 'ob',\n",
       " 'AND',\n",
       " 'TO',\n",
       " 'BE',\n",
       " 'ABLE',\n",
       " 'TO',\n",
       " 'se',\n",
       " 'THIS',\n",
       " 'ob',\n",
       " 'pi',\n",
       " 'FROM',\n",
       " 'A',\n",
       " 'pi',\n",
       " 'wh',\n",
       " 'IS',\n",
       " 'fo',\n",
       " 'BY',\n",
       " 'on',\n",
       " 'de',\n",
       " 'AND',\n",
       " 'fe']"
      ]
     },
     "execution_count": 18,
     "metadata": {},
     "output_type": "execute_result"
    }
   ],
   "source": [
    "#Exercise: read in file \"practice2.txt\". parse each word as an element in the list. \n",
    "#return only the first 2 characters for words longer than 5 characters\n",
    "#captialize words than are shorter than 5 characters\n",
    "#Use list comprehension!\n",
    "#eg: ['THE','MAIN','co','FOR','THE','ac','OF','LOVE','IS','THE','ov','OF'.........\n"
   ]
  },
  {
   "cell_type": "code",
   "execution_count": null,
   "metadata": {
    "collapsed": true
   },
   "outputs": [],
   "source": []
  }
 ],
 "metadata": {
  "anaconda-cloud": {},
  "kernelspec": {
   "display_name": "Python [default]",
   "language": "python",
   "name": "python3"
  },
  "language_info": {
   "codemirror_mode": {
    "name": "ipython",
    "version": 3
   },
   "file_extension": ".py",
   "mimetype": "text/x-python",
   "name": "python",
   "nbconvert_exporter": "python",
   "pygments_lexer": "ipython3",
   "version": "3.5.2"
  }
 },
 "nbformat": 4,
 "nbformat_minor": 0
}
