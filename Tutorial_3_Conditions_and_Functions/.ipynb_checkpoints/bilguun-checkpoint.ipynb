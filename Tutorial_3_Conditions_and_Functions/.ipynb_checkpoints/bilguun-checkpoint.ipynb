{
 "cells": [
  {
   "cell_type": "markdown",
   "metadata": {},
   "source": [
    "<br>\n",
    "# Mars' Python Tutorial 2"
   ]
  },
  {
   "cell_type": "code",
   "execution_count": 3,
   "metadata": {
    "collapsed": false
   },
   "outputs": [
    {
     "name": "stdout",
     "output_type": "stream",
     "text": [
      "{'CSE 140': 'A', 'ECON 109': 'A', 'LTRU 104': 'A', 'ECON 2': 'A', 'CSE 140L': 'A'}\n"
     ]
    }
   ],
   "source": [
    "#Review Exercise: Create a dictionary called classes, with the classes you're taking as key, and the grade that your want to recieve as index\n",
    "classes = {\"CSE 140\": \"A\", \"CSE 140L\": \"A\", \"ECON 109\": \"A\", \"ECON 2\": \"A\", \"LTRU 104\": \"A\"}\n",
    "print(classes)"
   ]
  },
  {
   "cell_type": "code",
   "execution_count": 5,
   "metadata": {
    "collapsed": false
   },
   "outputs": [
    {
     "name": "stdout",
     "output_type": "stream",
     "text": [
      "The grade I want for CSE 140is A\n",
      "The grade I want for ECON 109is A\n",
      "The grade I want for LTRU 104is A\n",
      "The grade I want for ECON 2is A\n",
      "The grade I want for CSE 140Lis A\n"
     ]
    }
   ],
   "source": [
    "#Review Exercise: Exercise: print out all key, values from your diciotnary in the following format:\n",
    "#\"The grade that I want to revieve for ____ class is ____\"\n",
    "for name, grade in classes.items():\n",
    "    print(\"The grade I want for \" + name + \"is \" + grade);\n",
    "    "
   ]
  },
  {
   "cell_type": "code",
   "execution_count": 10,
   "metadata": {
    "collapsed": false
   },
   "outputs": [
    {
     "name": "stdout",
     "output_type": "stream",
     "text": [
      "ngu ugB\n"
     ]
    }
   ],
   "source": [
    "#Review Exercise: Store your full name in variable \"name\" and print out the reverse of the even characters\n",
    "# eg Mars_Huang = gaHsa\n",
    "name = \"Biguun Bulgan\"\n",
    "print(name[::-2]);"
   ]
  },
  {
   "cell_type": "markdown",
   "metadata": {},
   "source": [
    "<br>\n",
    "# Unpacking\n",
    "You can unpack a sequence into different variables:"
   ]
  },
  {
   "cell_type": "code",
   "execution_count": 12,
   "metadata": {
    "collapsed": false
   },
   "outputs": [],
   "source": [
    "#this is a tuple ()\n",
    "x = ('Mars', 'Huang', 'marshuang80@gmail.com')\n",
    "fname, lname, email = x"
   ]
  },
  {
   "cell_type": "code",
   "execution_count": 24,
   "metadata": {
    "collapsed": false
   },
   "outputs": [
    {
     "data": {
      "text/plain": [
       "'Christopher'"
      ]
     },
     "execution_count": 24,
     "metadata": {},
     "output_type": "execute_result"
    }
   ],
   "source": [
    "fname"
   ]
  },
  {
   "cell_type": "code",
   "execution_count": 13,
   "metadata": {
    "collapsed": false
   },
   "outputs": [
    {
     "data": {
      "text/plain": [
       "'Huang'"
      ]
     },
     "execution_count": 13,
     "metadata": {},
     "output_type": "execute_result"
    }
   ],
   "source": [
    "lname"
   ]
  },
  {
   "cell_type": "markdown",
   "metadata": {},
   "source": [
    "<br>\n",
    "Make sure the number of values you are unpacking matches the number of variables being assigned."
   ]
  },
  {
   "cell_type": "code",
   "execution_count": 14,
   "metadata": {
    "collapsed": false
   },
   "outputs": [
    {
     "ename": "ValueError",
     "evalue": "too many values to unpack (expected 3)",
     "output_type": "error",
     "traceback": [
      "\u001b[0;31m---------------------------------------------------------------------------\u001b[0m",
      "\u001b[0;31mValueError\u001b[0m                                Traceback (most recent call last)",
      "\u001b[0;32m<ipython-input-14-90475c02b09b>\u001b[0m in \u001b[0;36m<module>\u001b[0;34m()\u001b[0m\n\u001b[1;32m      1\u001b[0m \u001b[0mx\u001b[0m \u001b[1;33m=\u001b[0m \u001b[1;33m(\u001b[0m\u001b[1;34m'Mars'\u001b[0m\u001b[1;33m,\u001b[0m \u001b[1;34m'Huang'\u001b[0m\u001b[1;33m,\u001b[0m \u001b[1;34m'marshuang80@gmail.com'\u001b[0m\u001b[1;33m,\u001b[0m \u001b[1;34m'San Diego'\u001b[0m\u001b[1;33m)\u001b[0m\u001b[1;33m\u001b[0m\u001b[0m\n\u001b[0;32m----> 2\u001b[0;31m \u001b[0mfname\u001b[0m\u001b[1;33m,\u001b[0m \u001b[0mlname\u001b[0m\u001b[1;33m,\u001b[0m \u001b[0memail\u001b[0m \u001b[1;33m=\u001b[0m \u001b[0mx\u001b[0m\u001b[1;33m\u001b[0m\u001b[0m\n\u001b[0m",
      "\u001b[0;31mValueError\u001b[0m: too many values to unpack (expected 3)"
     ]
    }
   ],
   "source": [
    "#too many values to unpack, more elements in tuple than variables\n",
    "x = ('Mars', 'Huang', 'marshuang80@gmail.com', 'San Diego')\n",
    "fname, lname, email = x"
   ]
  },
  {
   "cell_type": "markdown",
   "metadata": {},
   "source": [
    "You can also unpack from a list"
   ]
  },
  {
   "cell_type": "code",
   "execution_count": 16,
   "metadata": {
    "collapsed": true
   },
   "outputs": [],
   "source": [
    "x = ['Mars','Huang','marshuang80@gmail.com']\n",
    "fname, lname, email = x"
   ]
  },
  {
   "cell_type": "markdown",
   "metadata": {},
   "source": [
    "This is especially useful in functions"
   ]
  },
  {
   "cell_type": "code",
   "execution_count": 17,
   "metadata": {
    "collapsed": true
   },
   "outputs": [],
   "source": [
    "#you can return several things in Python! This returns 2 things, saved in 2 different variables\n",
    "def add_mul(a,b):\n",
    "    return [a+b,a*b]\n",
    "\n",
    "add,mul = add_mul(2,3)"
   ]
  },
  {
   "cell_type": "markdown",
   "metadata": {},
   "source": [
    "<br>\n",
    "# More on Strings and Printing"
   ]
  },
  {
   "cell_type": "code",
   "execution_count": 18,
   "metadata": {
    "collapsed": false
   },
   "outputs": [
    {
     "ename": "TypeError",
     "evalue": "Can't convert 'int' object to str implicitly",
     "output_type": "error",
     "traceback": [
      "\u001b[0;31m---------------------------------------------------------------------------\u001b[0m",
      "\u001b[0;31mTypeError\u001b[0m                                 Traceback (most recent call last)",
      "\u001b[0;32m<ipython-input-18-d38ffc1064d1>\u001b[0m in \u001b[0;36m<module>\u001b[0;34m()\u001b[0m\n\u001b[0;32m----> 1\u001b[0;31m \u001b[0mprint\u001b[0m\u001b[1;33m(\u001b[0m\u001b[1;34m'Mars'\u001b[0m \u001b[1;33m+\u001b[0m \u001b[1;36m2\u001b[0m\u001b[1;33m)\u001b[0m\u001b[1;33m\u001b[0m\u001b[0m\n\u001b[0m",
      "\u001b[0;31mTypeError\u001b[0m: Can't convert 'int' object to str implicitly"
     ]
    }
   ],
   "source": [
    "#Error since you can't concattinate an int to a string\n",
    "print('Mars' + 2)"
   ]
  },
  {
   "cell_type": "code",
   "execution_count": 19,
   "metadata": {
    "collapsed": false
   },
   "outputs": [
    {
     "name": "stdout",
     "output_type": "stream",
     "text": [
      "Mars2\n"
     ]
    }
   ],
   "source": [
    "#str(int) converts int to a string\n",
    "print('Mars' + str(2))"
   ]
  },
  {
   "cell_type": "markdown",
   "metadata": {},
   "source": [
    "<br>\n",
    "Python has a built in method for convenient string formatting."
   ]
  },
  {
   "cell_type": "code",
   "execution_count": 20,
   "metadata": {
    "collapsed": false
   },
   "outputs": [
    {
     "name": "stdout",
     "output_type": "stream",
     "text": [
      "Chris bought 4 item(s) at a price of 3.24 each for a total of 12.96\n"
     ]
    }
   ],
   "source": [
    "#declaring dictionary\n",
    "sales_record = {\n",
    "'price': 3.24,\n",
    "'num_items': 4,\n",
    "'person': 'Chris'}\n",
    "\n",
    "#a string template with blanks {}\n",
    "sales_statement = '{} bought {} item(s) at a price of {} each for a total of {}'\n",
    "\n",
    "#when you call format(parameters), assigns the blacks the parameters\n",
    "print(sales_statement.format(sales_record['person'],\n",
    "                             sales_record['num_items'],\n",
    "                             sales_record['price'],\n",
    "                             sales_record['num_items']*sales_record['price']))\n"
   ]
  },
  {
   "cell_type": "markdown",
   "metadata": {},
   "source": [
    "Notice how you don't need to convert int or float to string using format"
   ]
  },
  {
   "cell_type": "code",
   "execution_count": 21,
   "metadata": {
    "collapsed": false
   },
   "outputs": [
    {
     "name": "stdout",
     "output_type": "stream",
     "text": [
      "Chris bought 4 item(s) at a price of 3.240000 each for a total of 12.960000\n"
     ]
    }
   ],
   "source": [
    "#Another method\n",
    "print('%s bought %i item(s) at a price of %f each for a total of %f'%(sales_record['person'],\n",
    "                             sales_record['num_items'],\n",
    "                             sales_record['price'],\n",
    "                             sales_record['num_items']*sales_record['price']))\n"
   ]
  },
  {
   "cell_type": "code",
   "execution_count": 22,
   "metadata": {
    "collapsed": false
   },
   "outputs": [
    {
     "name": "stdout",
     "output_type": "stream",
     "text": [
      "I took 7 shots and drank 2 bottles of beer yesterday night\n"
     ]
    }
   ],
   "source": [
    "#Exercise: print out \"I took 'a' shots and drank 'b' bottles of beer yesterday night\"\n",
    "a = 7\n",
    "b = 2\n",
    "\n",
    "print(\"I took %i shots and drank %i bottles of beer yesterday night\"%(a,b))"
   ]
  },
  {
   "cell_type": "markdown",
   "metadata": {},
   "source": [
    "# The Python Programming Language: Functions"
   ]
  },
  {
   "cell_type": "code",
   "execution_count": 23,
   "metadata": {
    "collapsed": false
   },
   "outputs": [
    {
     "data": {
      "text/plain": [
       "3"
      ]
     },
     "execution_count": 23,
     "metadata": {},
     "output_type": "execute_result"
    }
   ],
   "source": [
    "x = 1\n",
    "y = 2\n",
    "x + y"
   ]
  },
  {
   "cell_type": "code",
   "execution_count": 2,
   "metadata": {
    "collapsed": true
   },
   "outputs": [
    {
     "data": {
      "text/plain": [
       "1"
      ]
     },
     "execution_count": 2,
     "metadata": {},
     "output_type": "execute_result"
    }
   ],
   "source": [
    "x"
   ]
  },
  {
   "cell_type": "markdown",
   "metadata": {},
   "source": [
    "<br>\n",
    "`add_numbers` is a function that takes two numbers and adds them together."
   ]
  },
  {
   "cell_type": "code",
   "execution_count": 24,
   "metadata": {
    "collapsed": false
   },
   "outputs": [
    {
     "data": {
      "text/plain": [
       "3"
      ]
     },
     "execution_count": 24,
     "metadata": {},
     "output_type": "execute_result"
    }
   ],
   "source": [
    "#def is a declaration of a method/function\n",
    "def add_numbers(x, y):\n",
    "    return x + y\n",
    "\n",
    "add_numbers(1, 2)"
   ]
  },
  {
   "cell_type": "markdown",
   "metadata": {},
   "source": [
    "<br>\n",
    "`add_numbers` updated to take an optional 3rd parameter. Using `print` allows printing of multiple expressions within a single cell."
   ]
  },
  {
   "cell_type": "code",
   "execution_count": null,
   "metadata": {
    "collapsed": false
   },
   "outputs": [],
   "source": [
    "#this method can accept either 2 variables or 3 with no problems\n",
    "def add_numbers(x,y,z=None):\n",
    "    if (z==None):\n",
    "        return x+y\n",
    "    else:\n",
    "        return x+y+z\n",
    "\n",
    "print(add_numbers(1, 2))\n",
    "print(add_numbers(1, 2, 3))"
   ]
  },
  {
   "cell_type": "markdown",
   "metadata": {},
   "source": [
    "<br>\n",
    "`add_numbers` updated to take an optional flag parameter."
   ]
  },
  {
   "cell_type": "code",
   "execution_count": 25,
   "metadata": {
    "collapsed": false
   },
   "outputs": [
    {
     "name": "stdout",
     "output_type": "stream",
     "text": [
      "Flag is true!\n",
      "3\n"
     ]
    }
   ],
   "source": [
    "#your flag can be anything\n",
    "def add_numbers(x, y, z=None, flag=False):\n",
    "    if (flag):\n",
    "        print('Flag is true!')\n",
    "    if (z==None):\n",
    "        return x + y\n",
    "    else:\n",
    "        return x + y + z\n",
    "    \n",
    "print(add_numbers(1, 2, flag=True))"
   ]
  },
  {
   "cell_type": "markdown",
   "metadata": {},
   "source": [
    "<br>\n",
    "Assign function `add_numbers` to variable `a`."
   ]
  },
  {
   "cell_type": "code",
   "execution_count": 4,
   "metadata": {
    "collapsed": true
   },
   "outputs": [
    {
     "data": {
      "text/plain": [
       "3"
      ]
     },
     "execution_count": 4,
     "metadata": {},
     "output_type": "execute_result"
    }
   ],
   "source": [
    "def add_numbers(x,y):\n",
    "    return x+y\n",
    "\n",
    "a = add_numbers\n",
    "a(1,2)"
   ]
  },
  {
   "cell_type": "code",
   "execution_count": 32,
   "metadata": {
    "collapsed": false
   },
   "outputs": [
    {
     "name": "stdout",
     "output_type": "stream",
     "text": [
      "17\n",
      "119\n"
     ]
    }
   ],
   "source": [
    "##Quiz\n",
    "#make a function that has two parameters: a list of numbers \"num\" a second number \"val\"\n",
    "#return the sum of all odd numbers in num, minus the sum of all even numbers, \n",
    "#and multiply by val if a second parameter is given\n",
    "num = [14,7,2,4,5,6,9,13,17,4,16,9,0,3]\n",
    "\n",
    "#write function below\n",
    "def get_result(array, var=None):\n",
    "    evenNums = 0;\n",
    "    oddNums = 0;\n",
    "    for i in array:\n",
    "        if(i%2 == 0):\n",
    "            evenNums += i\n",
    "        else:\n",
    "            oddNums += i\n",
    "    toReturn = oddNums-evenNums\n",
    "    if(var==None):\n",
    "        return toReturn\n",
    "    else:\n",
    "        return toReturn*var\n",
    "\n",
    "#two test cases:\n",
    "print(get_result(num))\n",
    "print(get_result(num,7))"
   ]
  },
  {
   "cell_type": "markdown",
   "metadata": {},
   "source": [
    "# Reading and Writing files"
   ]
  },
  {
   "cell_type": "markdown",
   "metadata": {},
   "source": [
    "Learning the \"with open... as\" syntax'\n",
    "\n",
    "r stands for \"read\""
   ]
  },
  {
   "cell_type": "code",
   "execution_count": 33,
   "metadata": {
    "collapsed": false
   },
   "outputs": [
    {
     "name": "stdout",
     "output_type": "stream",
     "text": [
      "<_io.TextIOWrapper name='practice.txt' mode='r' encoding='cp1252'>\n"
     ]
    }
   ],
   "source": [
    "#we are reading practice.txt as a file\n",
    "with open (\"practice.txt\",\"r\") as file:\n",
    "    print(file)"
   ]
  },
  {
   "cell_type": "code",
   "execution_count": 34,
   "metadata": {
    "collapsed": false
   },
   "outputs": [
    {
     "name": "stdout",
     "output_type": "stream",
     "text": [
      "hi guys, name is mars \n",
      "welcome to my workshop\n",
      "i enjoy eating mars bars\n",
      "and i steal them from the candy shop\n",
      "\n"
     ]
    }
   ],
   "source": [
    "#the read() method will turn the file into a string\n",
    "with open(\"practice.txt\",\"r\") as file:\n",
    "    print(file.read())"
   ]
  },
  {
   "cell_type": "code",
   "execution_count": 36,
   "metadata": {
    "collapsed": false
   },
   "outputs": [
    {
     "name": "stdout",
     "output_type": "stream",
     "text": [
      "['hi guys, name is mars \\n', 'welcome to my workshop\\n', 'i enjoy eating mars bars\\n', 'and i steal them from the candy shop\\n']\n",
      "hi guys, name is mars \n",
      "\n"
     ]
    }
   ],
   "source": [
    "#for loop reads line by line\n",
    "text = []\n",
    "with open(\"practice.txt\",\"r\") as file:\n",
    "    for line in file:\n",
    "        text.append(line)\n",
    "print(text)\n",
    "print(text[0])"
   ]
  },
  {
   "cell_type": "code",
   "execution_count": 39,
   "metadata": {
    "collapsed": false
   },
   "outputs": [
    {
     "name": "stdout",
     "output_type": "stream",
     "text": [
      "['hi guys, name is mars', 'welcome to my workshop', 'i enjoy eating mars bars', 'and i steal them from the candy shop']\n"
     ]
    }
   ],
   "source": [
    "##Pop-quiz: remove the \\n symbol from the list\n",
    "text = []\n",
    "with open(\"practice.txt\",\"r\") as file:\n",
    "    for line in file:\n",
    "        line = line.strip()\n",
    "        text.append(line)\n",
    "print(text)\n"
   ]
  },
  {
   "cell_type": "markdown",
   "metadata": {},
   "source": [
    "<br>\n",
    "# CSV files\n",
    "CSV files stand for comma seperated values, which how programs like excel format their files. \n",
    "\n",
    "<img src=\"example.png\">"
   ]
  },
  {
   "cell_type": "code",
   "execution_count": 51,
   "metadata": {
    "collapsed": false
   },
   "outputs": [
    {
     "name": "stdout",
     "output_type": "stream",
     "text": [
      "[['YEAR', 'Make', 'Model', 'Size', '(kW)', 'Unnamed: 5', 'TYPE', 'CITY (kWh/100 km)', 'HWY (kWh/100 km)', 'COMB (kWh/100 km)', 'CITY (Le/100 km)', 'HWY (Le/100 km)', 'COMB (Le/100 km)', '(g/km)', 'RATING', '(km)', 'TIME (h)'], ['2012', 'MITSUBISHI', 'i-MiEV', 'SUBCOMPACT', '49', 'A1', 'B', '16.9', '21.4', '18.7', '1.9', '2.4', '2.1', '0', 'n/a', '100', '7'], ['2012', 'NISSAN', 'LEAF', 'MID-SIZE', '80', 'A1', 'B', '19.3', '23.0', '21.1', '2.2', '2.6', '2.4', '0', 'n/a', '117', '7'], ['2013', 'FORD', 'FOCUS ELECTRIC', 'COMPACT', '107', 'A1', 'B', '19.0', '21.1', '20.0', '2.1', '2.4', '2.2', '0', 'n/a', '122', '4'], ['2013', 'MITSUBISHI', 'i-MiEV', 'SUBCOMPACT', '49', 'A1', 'B', '16.9', '21.4', '18.7', '1.9', '2.4', '2.1', '0', 'n/a', '100', '7'], ['2013', 'NISSAN', 'LEAF', 'MID-SIZE', '80', 'A1', 'B', '19.3', '23.0', '21.1', '2.2', '2.6', '2.4', '0', 'n/a', '117', '7'], ['2013', 'SMART', 'FORTWO ELECTRIC DRIVE CABRIOLET', 'TWO-SEATER', '35', 'A1', 'B', '17.2', '22.5', '19.6', '1.9', '2.5', '2.2', '0', 'n/a', '109', '8'], ['2013', 'SMART', 'FORTWO ELECTRIC DRIVE COUPE', 'TWO-SEATER', '35', 'A1', 'B', '17.2', '22.5', '19.6', '1.9', '2.5', '2.2', '0', 'n/a', '109', '8'], ['2013', 'TESLA', 'MODEL S (40 kWh battery)', 'FULL-SIZE', '270', 'A1', 'B', '22.4', '21.9', '22.2', '2.5', '2.5', '2.5', '0', 'n/a', '224', '6'], ['2013', 'TESLA', 'MODEL S (60 kWh battery)', 'FULL-SIZE', '270', 'A1', 'B', '22.2', '21.7', '21.9', '2.5', '2.4', '2.5', '0', 'n/a', '335', '10'], ['2013', 'TESLA', 'MODEL S (85 kWh battery)', 'FULL-SIZE', '270', 'A1', 'B', '23.8', '23.2', '23.6', '2.7', '2.6', '2.6', '0', 'n/a', '426', '12'], ['2013', 'TESLA', 'MODEL S PERFORMANCE', 'FULL-SIZE', '310', 'A1', 'B', '23.9', '23.2', '23.6', '2.7', '2.6', '2.6', '0', 'n/a', '426', '12'], ['2014', 'CHEVROLET', 'SPARK EV', 'SUBCOMPACT', '104', 'A1', 'B', '16.0', '19.6', '17.8', '1.8', '2.2', '2.0', '0', 'n/a', '131', '7'], ['2014', 'FORD', 'FOCUS ELECTRIC', 'COMPACT', '107', 'A1', 'B', '19.0', '21.1', '20.0', '2.1', '2.4', '2.2', '0', 'n/a', '122', '4'], ['2014', 'MITSUBISHI', 'i-MiEV', 'SUBCOMPACT', '49', 'A1', 'B', '16.9', '21.4', '18.7', '1.9', '2.4', '2.1', '0', 'n/a', '100', '7'], ['2014', 'NISSAN', 'LEAF', 'MID-SIZE', '80', 'A1', 'B', '16.5', '20.8', '18.4', '1.9', '2.3', '2.1', '0', 'n/a', '135', '5'], ['2014', 'SMART', 'FORTWO ELECTRIC DRIVE CABRIOLET', 'TWO-SEATER', '35', 'A1', 'B', '17.2', '22.5', '19.6', '1.9', '2.5', '2.2', '0', 'n/a', '109', '8'], ['2014', 'SMART', 'FORTWO ELECTRIC DRIVE COUPE', 'TWO-SEATER', '35', 'A1', 'B', '17.2', '22.5', '19.6', '1.9', '2.5', '2.2', '0', 'n/a', '109', '8'], ['2014', 'TESLA', 'MODEL S (60 kWh battery)', 'FULL-SIZE', '225', 'A1', 'B', '22.2', '21.7', '21.9', '2.5', '2.4', '2.5', '0', 'n/a', '335', '10'], ['2014', 'TESLA', 'MODEL S (85 kWh battery)', 'FULL-SIZE', '270', 'A1', 'B', '23.8', '23.2', '23.6', '2.7', '2.6', '2.6', '0', 'n/a', '426', '12'], ['2014', 'TESLA', 'MODEL S PERFORMANCE', 'FULL-SIZE', '310', 'A1', 'B', '23.9', '23.2', '23.6', '2.7', '2.6', '2.6', '0', 'n/a', '426', '12'], ['2015', 'BMW', 'i3', 'SUBCOMPACT', '125', 'A1', 'B', '15.2', '18.8', '16.8', '1.7', '2.1', '1.9', '0', 'n/a', '130', '4'], ['2015', 'CHEVROLET', 'SPARK EV', 'SUBCOMPACT', '104', 'A1', 'B', '16.0', '19.6', '17.8', '1.8', '2.2', '2.0', '0', 'n/a', '131', '7'], ['2015', 'FORD', 'FOCUS ELECTRIC', 'COMPACT', '107', 'A1', 'B', '19.0', '21.1', '20.0', '2.1', '2.4', '2.2', '0', 'n/a', '122', '4'], ['2015', 'KIA', 'SOUL EV', 'STATION WAGON - SMALL', '81', 'A1', 'B', '17.5', '22.7', '19.9', '2.0', '2.6', '2.2', '0', 'n/a', '149', '4'], ['2015', 'MITSUBISHI', 'i-MiEV', 'SUBCOMPACT', '49', 'A1', 'B', '16.9', '21.4', '18.7', '1.9', '2.4', '2.1', '0', 'n/a', '100', '7'], ['2015', 'NISSAN', 'LEAF', 'MID-SIZE', '80', 'A1', 'B', '16.5', '20.8', '18.4', '1.9', '2.3', '2.1', '0', 'n/a', '135', '5'], ['2015', 'SMART', 'FORTWO ELECTRIC DRIVE CABRIOLET', 'TWO-SEATER', '35', 'A1', 'B', '17.2', '22.5', '19.6', '1.9', '2.5', '2.2', '0', 'n/a', '109', '8'], ['2015', 'SMART', 'FORTWO ELECTRIC DRIVE COUPE', 'TWO-SEATER', '35', 'A1', 'B', '17.2', '22.5', '19.6', '1.9', '2.5', '2.2', '0', 'n/a', '109', '8'], ['2015', 'TESLA', 'MODEL S (60 kWh battery)', 'FULL-SIZE', '283', 'A1', 'B', '22.2', '21.7', '21.9', '2.5', '2.4', '2.5', '0', 'n/a', '335', '10'], ['2015', 'TESLA', 'MODEL S (70 kWh battery)', 'FULL-SIZE', '283', 'A1', 'B', '23.8', '23.2', '23.6', '2.7', '2.6', '2.6', '0', 'n/a', '377', '12'], ['2015', 'TESLA', 'MODEL S (85/90 kWh battery)', 'FULL-SIZE', '283', 'A1', 'B', '23.8', '23.2', '23.6', '2.7', '2.6', '2.6', '0', 'n/a', '426', '12'], ['2015', 'TESLA', 'MODEL S 70D', 'FULL-SIZE', '280', 'A1', 'B', '20.8', '20.6', '20.7', '2.3', '2.3', '2.3', '0', 'n/a', '386', '12'], ['2015', 'TESLA', 'MODEL S 85D/90D', 'FULL-SIZE', '280', 'A1', 'B', '22.0', '19.8', '21.0', '2.5', '2.2', '2.4', '0', 'n/a', '435', '12'], ['2015', 'TESLA', 'MODEL S P85D/P90D', 'FULL-SIZE', '515', 'A1', 'B', '23.4', '21.5', '22.5', '2.6', '2.4', '2.5', '0', 'n/a', '407', '12'], ['2016', 'BMW', 'i3', 'SUBCOMPACT', '125', 'A1', 'B', '15.2', '18.8', '16.8', '1.7', '2.1', '1.9', '0', '10', '130', '4'], ['2016', 'CHEVROLET', 'SPARK EV', 'SUBCOMPACT', '104', 'A1', 'B', '16.0', '19.6', '17.8', '1.8', '2.2', '2.0', '0', '10', '131', '7'], ['2016', 'FORD', 'FOCUS ELECTRIC', 'COMPACT', '107', 'A1', 'B', '19.0', '21.1', '20.0', '2.1', '2.4', '2.2', '0', '10', '122', '4'], ['2016', 'KIA', 'SOUL EV', 'STATION WAGON - SMALL', '81', 'A1', 'B', '17.5', '22.7', '19.9', '2.0', '2.6', '2.2', '0', '10', '149', '4'], ['2016', 'MITSUBISHI', 'i-MiEV', 'SUBCOMPACT', '49', 'A1', 'B', '16.9', '21.4', '18.7', '1.9', '2.4', '2.1', '0', '10', '100', '7'], ['2016', 'NISSAN', 'LEAF (24 kWh battery)', 'MID-SIZE', '80', 'A1', 'B', '16.5', '20.8', '18.4', '1.9', '2.3', '2.1', '0', '10', '135', '5'], ['2016', 'NISSAN', 'LEAF (30 kWh battery)', 'MID-SIZE', '80', 'A1', 'B', '17.0', '20.7', '18.6', '1.9', '2.3', '2.1', '0', '10', '172', '6'], ['2016', 'SMART', 'FORTWO ELECTRIC DRIVE CABRIOLET', 'TWO-SEATER', '35', 'A1', 'B', '17.2', '22.5', '19.6', '1.9', '2.5', '2.2', '0', '10', '109', '8'], ['2016', 'SMART', 'FORTWO ELECTRIC DRIVE COUPE', 'TWO-SEATER', '35', 'A1', 'B', '17.2', '22.5', '19.6', '1.9', '2.5', '2.2', '0', '10', '109', '8'], ['2016', 'TESLA', 'MODEL S (60 kWh battery)', 'FULL-SIZE', '283', 'A1', 'B', '22.2', '21.7', '21.9', '2.5', '2.4', '2.5', '0', '10', '335', '10'], ['2016', 'TESLA', 'MODEL S (70 kWh battery)', 'FULL-SIZE', '283', 'A1', 'B', '23.8', '23.2', '23.6', '2.7', '2.6', '2.6', '0', '10', '377', '12'], ['2016', 'TESLA', 'MODEL S (85/90 kWh battery)', 'FULL-SIZE', '283', 'A1', 'B', '23.8', '23.2', '23.6', '2.7', '2.6', '2.6', '0', '10', '426', '12'], ['2016', 'TESLA', 'MODEL S 70D', 'FULL-SIZE', '386', 'A1', 'B', '20.8', '20.6', '20.7', '2.3', '2.3', '2.3', '0', '10', '386', '12'], ['2016', 'TESLA', 'MODEL S 85D/90D', 'FULL-SIZE', '386', 'A1', 'B', '22.0', '19.8', '21.0', '2.5', '2.2', '2.4', '0', '10', '435', '12'], ['2016', 'TESLA', 'MODEL S 90D (Refresh)', 'FULL-SIZE', '386', 'A1', 'B', '20.8', '19.7', '20.3', '2.3', '2.2', '2.3', '0', '10', '473', '12'], ['2016', 'TESLA', 'MODEL S P85D/P90D', 'FULL-SIZE', '568', 'A1', 'B', '23.4', '21.5', '22.5', '2.6', '2.4', '2.5', '0', '10', '407', '12'], ['2016', 'TESLA', 'MODEL S P90D (Refresh)', 'FULL-SIZE', '568', 'A1', 'B', '22.9', '21.0', '22.1', '2.6', '2.4', '2.5', '0', '10', '435', '12'], ['2016', 'TESLA', 'MODEL X 90D', 'SUV - STANDARD', '386', 'A1', 'B', '23.2', '22.2', '22.7', '2.6', '2.5', '2.6', '0', '10', '414', '12'], ['2016', 'TESLA', 'MODEL X P90D', 'SUV - STANDARD', '568', 'A1', 'B', '23.6', '23.3', '23.5', '2.7', '2.6', '2.6', '0', '10', '402', '12']]\n"
     ]
    }
   ],
   "source": [
    "#Exercise open this file and store the information in a list\n",
    "text = []\n",
    "with open(\"cars.csv\", \"r\") as file:\n",
    "    for line in file:\n",
    "        line = line.strip()\n",
    "        listLine = line.split(\",\")\n",
    "        text.append(listLine)\n",
    "print(text)\n",
    "\n",
    "        "
   ]
  },
  {
   "cell_type": "code",
   "execution_count": 22,
   "metadata": {
    "collapsed": true
   },
   "outputs": [
    {
     "data": {
      "text/plain": [
       "[{'(g/km)': '0',\n",
       "  '(kW)': '49',\n",
       "  '(km)': '100',\n",
       "  'CITY (Le/100 km)': '1.9',\n",
       "  'CITY (kWh/100 km)': '16.9',\n",
       "  'COMB (Le/100 km)': '2.1',\n",
       "  'COMB (kWh/100 km)': '18.7',\n",
       "  'HWY (Le/100 km)': '2.4',\n",
       "  'HWY (kWh/100 km)': '21.4',\n",
       "  'Make': 'MITSUBISHI',\n",
       "  'Model': 'i-MiEV',\n",
       "  'RATING': 'n/a',\n",
       "  'Size': 'SUBCOMPACT',\n",
       "  'TIME (h)': '7',\n",
       "  'TYPE': 'B',\n",
       "  'Unnamed: 5': 'A1',\n",
       "  'YEAR': '2012'},\n",
       " {'(g/km)': '0',\n",
       "  '(kW)': '80',\n",
       "  '(km)': '117',\n",
       "  'CITY (Le/100 km)': '2.2',\n",
       "  'CITY (kWh/100 km)': '19.3',\n",
       "  'COMB (Le/100 km)': '2.4',\n",
       "  'COMB (kWh/100 km)': '21.1',\n",
       "  'HWY (Le/100 km)': '2.6',\n",
       "  'HWY (kWh/100 km)': '23.0',\n",
       "  'Make': 'NISSAN',\n",
       "  'Model': 'LEAF',\n",
       "  'RATING': 'n/a',\n",
       "  'Size': 'MID-SIZE',\n",
       "  'TIME (h)': '7',\n",
       "  'TYPE': 'B',\n",
       "  'Unnamed: 5': 'A1',\n",
       "  'YEAR': '2012'},\n",
       " {'(g/km)': '0',\n",
       "  '(kW)': '107',\n",
       "  '(km)': '122',\n",
       "  'CITY (Le/100 km)': '2.1',\n",
       "  'CITY (kWh/100 km)': '19.0',\n",
       "  'COMB (Le/100 km)': '2.2',\n",
       "  'COMB (kWh/100 km)': '20.0',\n",
       "  'HWY (Le/100 km)': '2.4',\n",
       "  'HWY (kWh/100 km)': '21.1',\n",
       "  'Make': 'FORD',\n",
       "  'Model': 'FOCUS ELECTRIC',\n",
       "  'RATING': 'n/a',\n",
       "  'Size': 'COMPACT',\n",
       "  'TIME (h)': '4',\n",
       "  'TYPE': 'B',\n",
       "  'Unnamed: 5': 'A1',\n",
       "  'YEAR': '2013'}]"
      ]
     },
     "execution_count": 22,
     "metadata": {},
     "output_type": "execute_result"
    }
   ],
   "source": [
    "import csv\n",
    "\n",
    "%precision 2\n",
    "\n",
    "with open('cars.csv') as csvfile:\n",
    "    cars = list(csv.DictReader(csvfile))\n",
    "    \n",
    "cars[:3] # The first three dictionaries in our list."
   ]
  },
  {
   "cell_type": "markdown",
   "metadata": {},
   "source": [
    "<br>\n",
    "`csv.Dictreader` has read in each row of our csv file as a dictionary. `len` shows that our list is comprised of 234 dictionaries."
   ]
  },
  {
   "cell_type": "code",
   "execution_count": 23,
   "metadata": {
    "collapsed": true
   },
   "outputs": [
    {
     "data": {
      "text/plain": [
       "53"
      ]
     },
     "execution_count": 23,
     "metadata": {},
     "output_type": "execute_result"
    }
   ],
   "source": [
    "len(cars)"
   ]
  },
  {
   "cell_type": "markdown",
   "metadata": {},
   "source": [
    "<br>\n",
    "since mpg is a list of dictionaries, `keys` gives us the column names of our csv."
   ]
  },
  {
   "cell_type": "code",
   "execution_count": 15,
   "metadata": {
    "collapsed": true
   },
   "outputs": [
    {
     "data": {
      "text/plain": [
       "dict_keys(['RATING', 'HWY (kWh/100 km)', 'CITY (Le/100 km)', 'COMB (Le/100 km)', 'TYPE', 'Size', '(km)', 'Model', 'HWY (Le/100 km)', 'Unnamed: 5', 'Make', '(kW)', 'TIME (h)', 'YEAR', 'CITY (kWh/100 km)', 'COMB (kWh/100 km)', '(g/km)'])"
      ]
     },
     "execution_count": 15,
     "metadata": {},
     "output_type": "execute_result"
    }
   ],
   "source": [
    "cars[0].keys()"
   ]
  },
  {
   "cell_type": "code",
   "execution_count": 27,
   "metadata": {
    "collapsed": true
   },
   "outputs": [
    {
     "data": {
      "text/plain": [
       "2.21"
      ]
     },
     "execution_count": 27,
     "metadata": {},
     "output_type": "execute_result"
    }
   ],
   "source": [
    "##Exercise: calculate the average electricity consumption while driving in the city"
   ]
  },
  {
   "cell_type": "code",
   "execution_count": 29,
   "metadata": {
    "collapsed": true
   },
   "outputs": [
    {
     "data": {
      "text/plain": [
       "8"
      ]
     },
     "execution_count": 29,
     "metadata": {},
     "output_type": "execute_result"
    }
   ],
   "source": [
    "##Exercise2: count how many different brands of cars there are, and print out all the different brands once"
   ]
  },
  {
   "cell_type": "markdown",
   "metadata": {},
   "source": [
    "# List Comprehension"
   ]
  },
  {
   "cell_type": "markdown",
   "metadata": {
    "collapsed": true
   },
   "source": [
    "imagine if you can fit your for loops in one line"
   ]
  },
  {
   "cell_type": "code",
   "execution_count": 1,
   "metadata": {
    "collapsed": false
   },
   "outputs": [
    {
     "data": {
      "text/plain": [
       "[2, 4, 6, 8, 10, 12, 14]"
      ]
     },
     "execution_count": 1,
     "metadata": {},
     "output_type": "execute_result"
    }
   ],
   "source": [
    "a = [1,2,3,4,5,6,7]\n",
    "b = []\n",
    "for num in a: \n",
    "    b.append(num*2)\n",
    "b"
   ]
  },
  {
   "cell_type": "markdown",
   "metadata": {},
   "source": [
    "using the \"for... in\" syntax, it's almost writing a for loop in reverse"
   ]
  },
  {
   "cell_type": "code",
   "execution_count": null,
   "metadata": {
    "collapsed": true
   },
   "outputs": [],
   "source": [
    "a = [1,2,3,4,5,6,7]\n",
    "b = [num*2 for num in a]\n",
    "b"
   ]
  },
  {
   "cell_type": "code",
   "execution_count": 2,
   "metadata": {
    "collapsed": true
   },
   "outputs": [
    {
     "data": {
      "text/plain": [
       "[0, 1, 2, 3, 4, 5, 6, 7, 8, 9]"
      ]
     },
     "execution_count": 2,
     "metadata": {},
     "output_type": "execute_result"
    }
   ],
   "source": [
    "#Exercise: using list comprehension and \"range\" syntax to store number 0 to 9 to list \"numbers\" "
   ]
  },
  {
   "cell_type": "markdown",
   "metadata": {},
   "source": [
    "Is this really worth it tho? We can actually include if statements in list comprhension\n",
    "\n",
    "\"__ if ____ else ___ for ___ in ___\" or \"___ for ____ in ____ if ___\""
   ]
  },
  {
   "cell_type": "code",
   "execution_count": 5,
   "metadata": {
    "collapsed": true
   },
   "outputs": [
    {
     "data": {
      "text/plain": [
       "[0, 2, 4, 6, 8, 10]"
      ]
     },
     "execution_count": 5,
     "metadata": {},
     "output_type": "execute_result"
    }
   ],
   "source": [
    "a = [0,1,2,3,4,5,6,7,8,9,10]\n",
    "b = [num for num in a if num%2 == 0]\n",
    "b"
   ]
  },
  {
   "cell_type": "code",
   "execution_count": 6,
   "metadata": {
    "collapsed": true
   },
   "outputs": [
    {
     "data": {
      "text/plain": [
       "[0, 10, -2, 30, -4, 50, -6, 70, -8, 90, -10]"
      ]
     },
     "execution_count": 6,
     "metadata": {},
     "output_type": "execute_result"
    }
   ],
   "source": [
    "c = [-num if num%2 ==0 else num*10 for num in a]\n",
    "c"
   ]
  },
  {
   "cell_type": "code",
   "execution_count": 18,
   "metadata": {
    "collapsed": true
   },
   "outputs": [
    {
     "data": {
      "text/plain": [
       "['THE',\n",
       " 'MAIN',\n",
       " 'co',\n",
       " 'FOR',\n",
       " 'THE',\n",
       " 'ac',\n",
       " 'OF',\n",
       " 'LOVE',\n",
       " 'IS',\n",
       " 'THE',\n",
       " 'ov',\n",
       " 'OF',\n",
       " 'on',\n",
       " 'na',\n",
       " 'THE',\n",
       " 'na',\n",
       " 'or',\n",
       " 'IS',\n",
       " 'ONE',\n",
       " 'IN',\n",
       " 'wh',\n",
       " 'ONE',\n",
       " 'ex',\n",
       " 'AS',\n",
       " 'REAL',\n",
       " 'ONLY',\n",
       " 'THAT',\n",
       " 'wh',\n",
       " 'ex',\n",
       " 'wi',\n",
       " 'on',\n",
       " 'wh',\n",
       " 'THE',\n",
       " 'ph',\n",
       " 'IN',\n",
       " 'THE',\n",
       " 'ou',\n",
       " 'wo',\n",
       " 'HAVE',\n",
       " 'NO',\n",
       " 're',\n",
       " 'IN',\n",
       " 'th',\n",
       " 'BUT',\n",
       " 'ARE',\n",
       " 'ex',\n",
       " 'ONLY',\n",
       " 'FROM',\n",
       " 'THE',\n",
       " 'vi',\n",
       " 'OF',\n",
       " 'th',\n",
       " 'be',\n",
       " 'us',\n",
       " 'OR',\n",
       " 'da',\n",
       " 'TO',\n",
       " 'ONE.',\n",
       " 'THE',\n",
       " 'op',\n",
       " 'POLE',\n",
       " 'TO',\n",
       " 'na',\n",
       " 'IS',\n",
       " 'ob',\n",
       " 'IT',\n",
       " 'IS',\n",
       " 'THE',\n",
       " 'fa',\n",
       " 'TO',\n",
       " 'SEE',\n",
       " 'ot',\n",
       " 'pe',\n",
       " 'AND',\n",
       " 'th',\n",
       " 'AS',\n",
       " 'THEY',\n",
       " 'ARE,',\n",
       " 'ob',\n",
       " 'AND',\n",
       " 'TO',\n",
       " 'BE',\n",
       " 'ABLE',\n",
       " 'TO',\n",
       " 'se',\n",
       " 'THIS',\n",
       " 'ob',\n",
       " 'pi',\n",
       " 'FROM',\n",
       " 'A',\n",
       " 'pi',\n",
       " 'wh',\n",
       " 'IS',\n",
       " 'fo',\n",
       " 'BY',\n",
       " 'on',\n",
       " 'de',\n",
       " 'AND',\n",
       " 'fe']"
      ]
     },
     "execution_count": 18,
     "metadata": {},
     "output_type": "execute_result"
    }
   ],
   "source": [
    "#Exercise: read in file \"practice2.txt\". parse each word as an element in the list. \n",
    "#return only the first 2 characters for words longer than 5 characters\n",
    "#captialize words than are shorter than 5 characters\n",
    "#Use list comprehension!\n",
    "#eg: ['THE','MAIN','co','FOR','THE','ac','OF','LOVE','IS','THE','ov','OF'.........\n"
   ]
  },
  {
   "cell_type": "code",
   "execution_count": null,
   "metadata": {
    "collapsed": true
   },
   "outputs": [],
   "source": []
  }
 ],
 "metadata": {
  "anaconda-cloud": {},
  "kernelspec": {
   "display_name": "Python [default]",
   "language": "python",
   "name": "python3"
  },
  "language_info": {
   "codemirror_mode": {
    "name": "ipython",
    "version": 3
   },
   "file_extension": ".py",
   "mimetype": "text/x-python",
   "name": "python",
   "nbconvert_exporter": "python",
   "pygments_lexer": "ipython3",
   "version": "3.5.2"
  }
 },
 "nbformat": 4,
 "nbformat_minor": 0
}
